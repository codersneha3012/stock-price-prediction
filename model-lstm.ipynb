{
 "cells": [
  {
   "cell_type": "markdown",
   "id": "radical-acrobat",
   "metadata": {},
   "source": [
    "# Part 1 - Data Preprocessing"
   ]
  },
  {
   "cell_type": "code",
   "execution_count": 64,
   "id": "rough-gibson",
   "metadata": {},
   "outputs": [],
   "source": [
    "import pandas as pd\n",
    "import numpy as np\n",
    "from sklearn.preprocessing import MinMaxScaler"
   ]
  },
  {
   "cell_type": "code",
   "execution_count": 65,
   "id": "parliamentary-transsexual",
   "metadata": {},
   "outputs": [
    {
     "data": {
      "text/html": [
       "<div>\n",
       "<style scoped>\n",
       "    .dataframe tbody tr th:only-of-type {\n",
       "        vertical-align: middle;\n",
       "    }\n",
       "\n",
       "    .dataframe tbody tr th {\n",
       "        vertical-align: top;\n",
       "    }\n",
       "\n",
       "    .dataframe thead th {\n",
       "        text-align: right;\n",
       "    }\n",
       "</style>\n",
       "<table border=\"1\" class=\"dataframe\">\n",
       "  <thead>\n",
       "    <tr style=\"text-align: right;\">\n",
       "      <th></th>\n",
       "      <th>Date</th>\n",
       "      <th>Open</th>\n",
       "      <th>High</th>\n",
       "      <th>Low</th>\n",
       "      <th>Close</th>\n",
       "      <th>Volume</th>\n",
       "    </tr>\n",
       "  </thead>\n",
       "  <tbody>\n",
       "    <tr>\n",
       "      <th>0</th>\n",
       "      <td>1/3/2012</td>\n",
       "      <td>325.25</td>\n",
       "      <td>332.83</td>\n",
       "      <td>324.97</td>\n",
       "      <td>663.59</td>\n",
       "      <td>7,380,500</td>\n",
       "    </tr>\n",
       "    <tr>\n",
       "      <th>1</th>\n",
       "      <td>1/4/2012</td>\n",
       "      <td>331.27</td>\n",
       "      <td>333.87</td>\n",
       "      <td>329.08</td>\n",
       "      <td>666.45</td>\n",
       "      <td>5,749,400</td>\n",
       "    </tr>\n",
       "    <tr>\n",
       "      <th>2</th>\n",
       "      <td>1/5/2012</td>\n",
       "      <td>329.83</td>\n",
       "      <td>330.75</td>\n",
       "      <td>326.89</td>\n",
       "      <td>657.21</td>\n",
       "      <td>6,590,300</td>\n",
       "    </tr>\n",
       "    <tr>\n",
       "      <th>3</th>\n",
       "      <td>1/6/2012</td>\n",
       "      <td>328.34</td>\n",
       "      <td>328.77</td>\n",
       "      <td>323.68</td>\n",
       "      <td>648.24</td>\n",
       "      <td>5,405,900</td>\n",
       "    </tr>\n",
       "    <tr>\n",
       "      <th>4</th>\n",
       "      <td>1/9/2012</td>\n",
       "      <td>322.04</td>\n",
       "      <td>322.29</td>\n",
       "      <td>309.46</td>\n",
       "      <td>620.76</td>\n",
       "      <td>11,688,800</td>\n",
       "    </tr>\n",
       "  </tbody>\n",
       "</table>\n",
       "</div>"
      ],
      "text/plain": [
       "       Date    Open    High     Low   Close      Volume\n",
       "0  1/3/2012  325.25  332.83  324.97  663.59   7,380,500\n",
       "1  1/4/2012  331.27  333.87  329.08  666.45   5,749,400\n",
       "2  1/5/2012  329.83  330.75  326.89  657.21   6,590,300\n",
       "3  1/6/2012  328.34  328.77  323.68  648.24   5,405,900\n",
       "4  1/9/2012  322.04  322.29  309.46  620.76  11,688,800"
      ]
     },
     "execution_count": 65,
     "metadata": {},
     "output_type": "execute_result"
    }
   ],
   "source": [
    "df_train = pd.read_csv('Google_Stock_Price_Train.csv')\n",
    "df_train.head()"
   ]
  },
  {
   "cell_type": "code",
   "execution_count": 66,
   "id": "vertical-venice",
   "metadata": {},
   "outputs": [
    {
     "data": {
      "text/plain": [
       "array([[325.25],\n",
       "       [331.27],\n",
       "       [329.83],\n",
       "       ...,\n",
       "       [793.7 ],\n",
       "       [783.33],\n",
       "       [782.75]])"
      ]
     },
     "execution_count": 66,
     "metadata": {},
     "output_type": "execute_result"
    }
   ],
   "source": [
    "training_set = df_train.iloc[:, 1:2].values\n",
    "training_set"
   ]
  },
  {
   "cell_type": "code",
   "execution_count": 67,
   "id": "charitable-victory",
   "metadata": {},
   "outputs": [
    {
     "data": {
      "text/plain": [
       "array([[0.08581368],\n",
       "       [0.09701243],\n",
       "       [0.09433366],\n",
       "       ...,\n",
       "       [0.95725128],\n",
       "       [0.93796041],\n",
       "       [0.93688146]])"
      ]
     },
     "execution_count": 67,
     "metadata": {},
     "output_type": "execute_result"
    }
   ],
   "source": [
    "scaler = MinMaxScaler()\n",
    "training_set_scaled = scaler.fit_transform(training_set)\n",
    "training_set_scaled"
   ]
  },
  {
   "cell_type": "code",
   "execution_count": 68,
   "id": "written-settlement",
   "metadata": {},
   "outputs": [
    {
     "data": {
      "text/plain": [
       "1258"
      ]
     },
     "execution_count": 68,
     "metadata": {},
     "output_type": "execute_result"
    }
   ],
   "source": [
    "len(training_set_scaled)"
   ]
  },
  {
   "cell_type": "code",
   "execution_count": 69,
   "id": "blind-comparative",
   "metadata": {},
   "outputs": [
    {
     "data": {
      "text/plain": [
       "(array([[0.08581368, 0.09701243, 0.09433366, ..., 0.07846566, 0.08034452,\n",
       "         0.08497656],\n",
       "        [0.09701243, 0.09433366, 0.09156187, ..., 0.08034452, 0.08497656,\n",
       "         0.08627874],\n",
       "        [0.09433366, 0.09156187, 0.07984225, ..., 0.08497656, 0.08627874,\n",
       "         0.08471612],\n",
       "        ...,\n",
       "        [0.92106928, 0.92438053, 0.93048218, ..., 0.95475854, 0.95204256,\n",
       "         0.95163331],\n",
       "        [0.92438053, 0.93048218, 0.9299055 , ..., 0.95204256, 0.95163331,\n",
       "         0.95725128],\n",
       "        [0.93048218, 0.9299055 , 0.93113327, ..., 0.95163331, 0.95725128,\n",
       "         0.93796041]]),\n",
       " array([0.08627874, 0.08471612, 0.07454052, ..., 0.95725128, 0.93796041,\n",
       "        0.93688146]))"
      ]
     },
     "execution_count": 69,
     "metadata": {},
     "output_type": "execute_result"
    }
   ],
   "source": [
    "# Creating a data structure with 60 timesteps and 1 output\n",
    "X_train = []\n",
    "y_train = []\n",
    "\n",
    "for i in range(60, len(training_set_scaled)):\n",
    "    X_train.append(training_set_scaled[i-60:i, 0])\n",
    "    y_train.append(training_set_scaled[i, 0])\n",
    "    \n",
    "X_train, y_train = np.array(X_train), np.array(y_train)    \n",
    "X_train, y_train"
   ]
  },
  {
   "cell_type": "code",
   "execution_count": 70,
   "id": "premium-tampa",
   "metadata": {},
   "outputs": [
    {
     "data": {
      "text/plain": [
       "array([[[0.08581368],\n",
       "        [0.09701243],\n",
       "        [0.09433366],\n",
       "        ...,\n",
       "        [0.07846566],\n",
       "        [0.08034452],\n",
       "        [0.08497656]],\n",
       "\n",
       "       [[0.09701243],\n",
       "        [0.09433366],\n",
       "        [0.09156187],\n",
       "        ...,\n",
       "        [0.08034452],\n",
       "        [0.08497656],\n",
       "        [0.08627874]],\n",
       "\n",
       "       [[0.09433366],\n",
       "        [0.09156187],\n",
       "        [0.07984225],\n",
       "        ...,\n",
       "        [0.08497656],\n",
       "        [0.08627874],\n",
       "        [0.08471612]],\n",
       "\n",
       "       ...,\n",
       "\n",
       "       [[0.92106928],\n",
       "        [0.92438053],\n",
       "        [0.93048218],\n",
       "        ...,\n",
       "        [0.95475854],\n",
       "        [0.95204256],\n",
       "        [0.95163331]],\n",
       "\n",
       "       [[0.92438053],\n",
       "        [0.93048218],\n",
       "        [0.9299055 ],\n",
       "        ...,\n",
       "        [0.95204256],\n",
       "        [0.95163331],\n",
       "        [0.95725128]],\n",
       "\n",
       "       [[0.93048218],\n",
       "        [0.9299055 ],\n",
       "        [0.93113327],\n",
       "        ...,\n",
       "        [0.95163331],\n",
       "        [0.95725128],\n",
       "        [0.93796041]]])"
      ]
     },
     "execution_count": 70,
     "metadata": {},
     "output_type": "execute_result"
    }
   ],
   "source": [
    "#for lstm\n",
    "X_train = np.reshape(X_train, (X_train.shape[0], X_train.shape[1], 1))\n",
    "X_train"
   ]
  },
  {
   "cell_type": "markdown",
   "id": "remarkable-anaheim",
   "metadata": {},
   "source": [
    "## Preparing test data"
   ]
  },
  {
   "cell_type": "code",
   "execution_count": 71,
   "id": "average-titanium",
   "metadata": {},
   "outputs": [],
   "source": [
    "# Getting the real stock price of 2017\n",
    "dataset_test = pd.read_csv('Google_Stock_Price_Test.csv')\n",
    "real_stock_price = dataset_test.iloc[:, 1:2].values"
   ]
  },
  {
   "cell_type": "code",
   "execution_count": 72,
   "id": "labeled-handbook",
   "metadata": {},
   "outputs": [],
   "source": [
    "# Getting the predicted stock price of 2017\n",
    "dataset_total = pd.concat((df_train['Open'], dataset_test['Open']), axis = 0)\n",
    "inputs = dataset_total[len(dataset_total) - len(dataset_test) - 60:].values\n",
    "inputs = inputs.reshape(-1,1)\n",
    "inputs = scaler.transform(inputs)\n",
    "X_test = []\n",
    "for i in range(60, 80):\n",
    "    X_test.append(inputs[i-60:i, 0])\n",
    "X_test = np.array(X_test)\n",
    "X_test = np.reshape(X_test, (X_test.shape[0], X_test.shape[1], 1))"
   ]
  },
  {
   "cell_type": "code",
   "execution_count": 84,
   "id": "comic-riding",
   "metadata": {},
   "outputs": [
    {
     "data": {
      "text/plain": [
       "array([[0.9299055 ],\n",
       "       [0.93113327],\n",
       "       [0.92750577],\n",
       "       [0.94415507],\n",
       "       [0.93876032],\n",
       "       [0.93403527],\n",
       "       [0.93483518],\n",
       "       [0.9313937 ],\n",
       "       [0.94636878],\n",
       "       [0.96569685],\n",
       "       [0.97510976],\n",
       "       [0.95966962],\n",
       "       [0.97808617],\n",
       "       [1.        ],\n",
       "       [0.98076494],\n",
       "       [0.97083116],\n",
       "       [0.98450406],\n",
       "       [0.96054394],\n",
       "       [0.9371419 ],\n",
       "       [0.92841729],\n",
       "       [0.90804747],\n",
       "       [0.8771858 ],\n",
       "       [0.92153434],\n",
       "       [0.93809063],\n",
       "       [0.93165414],\n",
       "       [0.95254483],\n",
       "       [0.88812412],\n",
       "       [0.88637547],\n",
       "       [0.87032145],\n",
       "       [0.88563137],\n",
       "       [0.90743359],\n",
       "       [0.91571173],\n",
       "       [0.89941588],\n",
       "       [0.91805566],\n",
       "       [0.9089404 ],\n",
       "       [0.9024853 ],\n",
       "       [0.89456061],\n",
       "       [0.91600938],\n",
       "       [0.9132934 ],\n",
       "       [0.88979835],\n",
       "       [0.86589404],\n",
       "       [0.89030062],\n",
       "       [0.90335962],\n",
       "       [0.89642086],\n",
       "       [0.91777662],\n",
       "       [0.93176576],\n",
       "       [0.94114145],\n",
       "       [0.95762334],\n",
       "       [0.96413424],\n",
       "       [0.96402262],\n",
       "       [0.96971501],\n",
       "       [0.95077759],\n",
       "       [0.96294367],\n",
       "       [0.96123223],\n",
       "       [0.95475854],\n",
       "       [0.95204256],\n",
       "       [0.95163331],\n",
       "       [0.95725128],\n",
       "       [0.93796041],\n",
       "       [0.93688146],\n",
       "       [0.92955205],\n",
       "       [0.94731751],\n",
       "       [0.94307612],\n",
       "       [0.96015329],\n",
       "       [0.98087655],\n",
       "       [0.98359253],\n",
       "       [0.97827219],\n",
       "       [0.98225314],\n",
       "       [0.98288563],\n",
       "       [0.98214153],\n",
       "       [0.979779  ],\n",
       "       [0.97849542],\n",
       "       [0.98182528],\n",
       "       [0.98245777],\n",
       "       [1.01045465],\n",
       "       [1.02407173],\n",
       "       [1.03930724],\n",
       "       [1.03354044],\n",
       "       [0.99624228],\n",
       "       [0.9631297 ]])"
      ]
     },
     "execution_count": 84,
     "metadata": {},
     "output_type": "execute_result"
    }
   ],
   "source": [
    "inputs"
   ]
  },
  {
   "cell_type": "markdown",
   "id": "canadian-trademark",
   "metadata": {},
   "source": [
    "# Part 2 - Building the RNN"
   ]
  },
  {
   "cell_type": "code",
   "execution_count": 74,
   "id": "fresh-bonus",
   "metadata": {},
   "outputs": [],
   "source": [
    "# Importing the Keras libraries and packages\n",
    "import tensorflow as tf\n",
    "from tensorflow.keras.models import Sequential\n",
    "from tensorflow.keras.layers import Dense\n",
    "from tensorflow.keras.layers import LSTM\n",
    "from tensorflow.keras.layers import Dropout"
   ]
  },
  {
   "cell_type": "code",
   "execution_count": 90,
   "id": "precious-chosen",
   "metadata": {},
   "outputs": [],
   "source": [
    "model = Sequential()\n",
    "\n",
    "# Adding the first LSTM layer and some Dropout regularisation\n",
    "model.add(LSTM(units = 50, return_sequences = True, input_shape = (X_train.shape[1], 1)))\n",
    "model.add(Dropout(0.2))\n",
    "\n",
    "# Adding a second LSTM layer and some Dropout regularisation\n",
    "model.add(LSTM(units = 50, return_sequences = True))\n",
    "model.add(Dropout(0.2))\n",
    "\n",
    "# Adding a third LSTM layer and some Dropout regularisation\n",
    "model.add(LSTM(units = 50, return_sequences = True))\n",
    "model.add(Dropout(0.2))\n",
    "\n",
    "# Adding a fourth LSTM layer and some Dropout regularisation\n",
    "model.add(LSTM(units = 50))\n",
    "model.add(Dropout(0.2))\n",
    "\n",
    "model.add(Dense(1))"
   ]
  },
  {
   "cell_type": "code",
   "execution_count": 91,
   "id": "economic-basement",
   "metadata": {},
   "outputs": [],
   "source": [
    "# Compiling the RNN\n",
    "model.compile(optimizer = 'adam', loss = 'mean_squared_error')"
   ]
  },
  {
   "cell_type": "code",
   "execution_count": 92,
   "id": "after-longer",
   "metadata": {},
   "outputs": [
    {
     "name": "stdout",
     "output_type": "stream",
     "text": [
      "Epoch 1/100\n",
      "19/19 [==============================] - 6s 78ms/step - loss: 0.1439\n",
      "Epoch 2/100\n",
      "19/19 [==============================] - 1s 78ms/step - loss: 0.0139\n",
      "Epoch 3/100\n",
      "19/19 [==============================] - 1s 79ms/step - loss: 0.0061\n",
      "Epoch 4/100\n",
      "19/19 [==============================] - 2s 79ms/step - loss: 0.0053\n",
      "Epoch 5/100\n",
      "19/19 [==============================] - 1s 77ms/step - loss: 0.0051\n",
      "Epoch 6/100\n",
      "19/19 [==============================] - 1s 77ms/step - loss: 0.0047\n",
      "Epoch 7/100\n",
      "19/19 [==============================] - 1s 77ms/step - loss: 0.0045\n",
      "Epoch 8/100\n",
      "19/19 [==============================] - 1s 76ms/step - loss: 0.0058\n",
      "Epoch 9/100\n",
      "19/19 [==============================] - 1s 76ms/step - loss: 0.0050\n",
      "Epoch 10/100\n",
      "19/19 [==============================] - 1s 77ms/step - loss: 0.0044\n",
      "Epoch 11/100\n",
      "19/19 [==============================] - 1s 76ms/step - loss: 0.0048\n",
      "Epoch 12/100\n",
      "19/19 [==============================] - 1s 77ms/step - loss: 0.0055\n",
      "Epoch 13/100\n",
      "19/19 [==============================] - 1s 77ms/step - loss: 0.0045\n",
      "Epoch 14/100\n",
      "19/19 [==============================] - 1s 77ms/step - loss: 0.0049\n",
      "Epoch 15/100\n",
      "19/19 [==============================] - 1s 76ms/step - loss: 0.0044\n",
      "Epoch 16/100\n",
      "19/19 [==============================] - 2s 81ms/step - loss: 0.0045\n",
      "Epoch 17/100\n",
      "19/19 [==============================] - 1s 76ms/step - loss: 0.0044\n",
      "Epoch 18/100\n",
      "19/19 [==============================] - 1s 76ms/step - loss: 0.0047\n",
      "Epoch 19/100\n",
      "19/19 [==============================] - 1s 76ms/step - loss: 0.0050\n",
      "Epoch 20/100\n",
      "19/19 [==============================] - 1s 78ms/step - loss: 0.0038\n",
      "Epoch 21/100\n",
      "19/19 [==============================] - 2s 79ms/step - loss: 0.0036\n",
      "Epoch 22/100\n",
      "19/19 [==============================] - 1s 76ms/step - loss: 0.0037\n",
      "Epoch 23/100\n",
      "19/19 [==============================] - 1s 77ms/step - loss: 0.0041\n",
      "Epoch 24/100\n",
      "19/19 [==============================] - 1s 75ms/step - loss: 0.0053\n",
      "Epoch 25/100\n",
      "19/19 [==============================] - 1s 76ms/step - loss: 0.0035\n",
      "Epoch 26/100\n",
      "19/19 [==============================] - 1s 76ms/step - loss: 0.0036\n",
      "Epoch 27/100\n",
      "19/19 [==============================] - 1s 76ms/step - loss: 0.0035\n",
      "Epoch 28/100\n",
      "19/19 [==============================] - 2s 81ms/step - loss: 0.0036\n",
      "Epoch 29/100\n",
      "19/19 [==============================] - 2s 84ms/step - loss: 0.0035\n",
      "Epoch 30/100\n",
      "19/19 [==============================] - 2s 83ms/step - loss: 0.0036\n",
      "Epoch 31/100\n",
      "19/19 [==============================] - 2s 84ms/step - loss: 0.0037\n",
      "Epoch 32/100\n",
      "19/19 [==============================] - 2s 85ms/step - loss: 0.0037\n",
      "Epoch 33/100\n",
      "19/19 [==============================] - 2s 84ms/step - loss: 0.0037\n",
      "Epoch 34/100\n",
      "19/19 [==============================] - 2s 84ms/step - loss: 0.0034\n",
      "Epoch 35/100\n",
      "19/19 [==============================] - 2s 83ms/step - loss: 0.0037\n",
      "Epoch 36/100\n",
      "19/19 [==============================] - 2s 83ms/step - loss: 0.0035\n",
      "Epoch 37/100\n",
      "19/19 [==============================] - 2s 83ms/step - loss: 0.0034\n",
      "Epoch 38/100\n",
      "19/19 [==============================] - 2s 83ms/step - loss: 0.0033\n",
      "Epoch 39/100\n",
      "19/19 [==============================] - 2s 82ms/step - loss: 0.0036\n",
      "Epoch 40/100\n",
      "19/19 [==============================] - 2s 90ms/step - loss: 0.0031\n",
      "Epoch 41/100\n",
      "19/19 [==============================] - 2s 85ms/step - loss: 0.0047\n",
      "Epoch 42/100\n",
      "19/19 [==============================] - 2s 83ms/step - loss: 0.0041\n",
      "Epoch 43/100\n",
      "19/19 [==============================] - 2s 87ms/step - loss: 0.0032\n",
      "Epoch 44/100\n",
      "19/19 [==============================] - 2s 92ms/step - loss: 0.0030\n",
      "Epoch 45/100\n",
      "19/19 [==============================] - 2s 84ms/step - loss: 0.0032\n",
      "Epoch 46/100\n",
      "19/19 [==============================] - 2s 84ms/step - loss: 0.0030\n",
      "Epoch 47/100\n",
      "19/19 [==============================] - 2s 83ms/step - loss: 0.0035\n",
      "Epoch 48/100\n",
      "19/19 [==============================] - 2s 84ms/step - loss: 0.0028\n",
      "Epoch 49/100\n",
      "19/19 [==============================] - 2s 83ms/step - loss: 0.0029\n",
      "Epoch 50/100\n",
      "19/19 [==============================] - 2s 85ms/step - loss: 0.0028\n",
      "Epoch 51/100\n",
      "19/19 [==============================] - 2s 85ms/step - loss: 0.0032\n",
      "Epoch 52/100\n",
      "19/19 [==============================] - 2s 84ms/step - loss: 0.0032\n",
      "Epoch 53/100\n",
      "19/19 [==============================] - 2s 82ms/step - loss: 0.0026\n",
      "Epoch 54/100\n",
      "19/19 [==============================] - 2s 82ms/step - loss: 0.0029\n",
      "Epoch 55/100\n",
      "19/19 [==============================] - 2s 82ms/step - loss: 0.0027\n",
      "Epoch 56/100\n",
      "19/19 [==============================] - 2s 82ms/step - loss: 0.0028\n",
      "Epoch 57/100\n",
      "19/19 [==============================] - 2s 82ms/step - loss: 0.0026\n",
      "Epoch 58/100\n",
      "19/19 [==============================] - 2s 83ms/step - loss: 0.0032\n",
      "Epoch 59/100\n",
      "19/19 [==============================] - 2s 83ms/step - loss: 0.0028\n",
      "Epoch 60/100\n",
      "19/19 [==============================] - 2s 83ms/step - loss: 0.0029\n",
      "Epoch 61/100\n",
      "19/19 [==============================] - 2s 83ms/step - loss: 0.0025\n",
      "Epoch 62/100\n",
      "19/19 [==============================] - 2s 83ms/step - loss: 0.0028\n",
      "Epoch 63/100\n",
      "19/19 [==============================] - 2s 82ms/step - loss: 0.0026\n",
      "Epoch 64/100\n",
      "19/19 [==============================] - 2s 83ms/step - loss: 0.0021\n",
      "Epoch 65/100\n",
      "19/19 [==============================] - 2s 83ms/step - loss: 0.0028\n",
      "Epoch 66/100\n",
      "19/19 [==============================] - 2s 83ms/step - loss: 0.0029\n",
      "Epoch 67/100\n",
      "19/19 [==============================] - 2s 83ms/step - loss: 0.0024\n",
      "Epoch 68/100\n",
      "19/19 [==============================] - 2s 83ms/step - loss: 0.0024\n",
      "Epoch 69/100\n",
      "19/19 [==============================] - 2s 83ms/step - loss: 0.0022\n",
      "Epoch 70/100\n",
      "19/19 [==============================] - 2s 83ms/step - loss: 0.0023\n",
      "Epoch 71/100\n",
      "19/19 [==============================] - 2s 83ms/step - loss: 0.0023\n",
      "Epoch 72/100\n",
      "19/19 [==============================] - 2s 82ms/step - loss: 0.0026\n",
      "Epoch 73/100\n",
      "19/19 [==============================] - 2s 83ms/step - loss: 0.0026\n",
      "Epoch 74/100\n",
      "19/19 [==============================] - 2s 83ms/step - loss: 0.0025\n",
      "Epoch 75/100\n",
      "19/19 [==============================] - 2s 83ms/step - loss: 0.0025\n",
      "Epoch 76/100\n",
      "19/19 [==============================] - 2s 84ms/step - loss: 0.0022\n",
      "Epoch 77/100\n",
      "19/19 [==============================] - 2s 82ms/step - loss: 0.0024\n",
      "Epoch 78/100\n",
      "19/19 [==============================] - 2s 82ms/step - loss: 0.0020\n",
      "Epoch 79/100\n",
      "19/19 [==============================] - 2s 83ms/step - loss: 0.0025\n",
      "Epoch 80/100\n",
      "19/19 [==============================] - 2s 83ms/step - loss: 0.0027\n",
      "Epoch 81/100\n",
      "19/19 [==============================] - 2s 83ms/step - loss: 0.0025\n",
      "Epoch 82/100\n",
      "19/19 [==============================] - 2s 82ms/step - loss: 0.0025\n",
      "Epoch 83/100\n",
      "19/19 [==============================] - 2s 83ms/step - loss: 0.0027\n",
      "Epoch 84/100\n",
      "19/19 [==============================] - 2s 83ms/step - loss: 0.0024\n",
      "Epoch 85/100\n",
      "19/19 [==============================] - 2s 83ms/step - loss: 0.0031\n",
      "Epoch 86/100\n",
      "19/19 [==============================] - 2s 83ms/step - loss: 0.0025\n",
      "Epoch 87/100\n",
      "19/19 [==============================] - 2s 83ms/step - loss: 0.0022\n",
      "Epoch 88/100\n",
      "19/19 [==============================] - 2s 84ms/step - loss: 0.0025\n",
      "Epoch 89/100\n",
      "19/19 [==============================] - 2s 82ms/step - loss: 0.0024\n",
      "Epoch 90/100\n",
      "19/19 [==============================] - 2s 83ms/step - loss: 0.0021\n",
      "Epoch 91/100\n",
      "19/19 [==============================] - 2s 84ms/step - loss: 0.0024\n",
      "Epoch 92/100\n",
      "19/19 [==============================] - 2s 83ms/step - loss: 0.0022\n",
      "Epoch 93/100\n",
      "19/19 [==============================] - 2s 83ms/step - loss: 0.0023\n",
      "Epoch 94/100\n",
      "19/19 [==============================] - 2s 83ms/step - loss: 0.0024\n",
      "Epoch 95/100\n",
      "19/19 [==============================] - 2s 82ms/step - loss: 0.0024\n",
      "Epoch 96/100\n",
      "19/19 [==============================] - 2s 83ms/step - loss: 0.0023\n",
      "Epoch 97/100\n",
      "19/19 [==============================] - 2s 83ms/step - loss: 0.0024\n",
      "Epoch 98/100\n",
      "19/19 [==============================] - 2s 83ms/step - loss: 0.0022\n",
      "Epoch 99/100\n",
      "19/19 [==============================] - 2s 83ms/step - loss: 0.0019\n",
      "Epoch 100/100\n",
      "19/19 [==============================] - 2s 82ms/step - loss: 0.0020\n"
     ]
    },
    {
     "data": {
      "text/plain": [
       "<tensorflow.python.keras.callbacks.History at 0x7f03053d16a0>"
      ]
     },
     "execution_count": 92,
     "metadata": {},
     "output_type": "execute_result"
    }
   ],
   "source": [
    "model.fit(X_train, y_train, epochs = 100, batch_size = 64)"
   ]
  },
  {
   "cell_type": "code",
   "execution_count": 93,
   "id": "limiting-mouth",
   "metadata": {},
   "outputs": [
    {
     "name": "stdout",
     "output_type": "stream",
     "text": [
      "WARNING:tensorflow:7 out of the last 10 calls to <function Model.make_predict_function.<locals>.predict_function at 0x7f031d888510> triggered tf.function retracing. Tracing is expensive and the excessive number of tracings could be due to (1) creating @tf.function repeatedly in a loop, (2) passing tensors with different shapes, (3) passing Python objects instead of tensors. For (1), please define your @tf.function outside of the loop. For (2), @tf.function has experimental_relax_shapes=True option that relaxes argument shapes that can avoid unnecessary retracing. For (3), please refer to https://www.tensorflow.org/guide/function#controlling_retracing and https://www.tensorflow.org/api_docs/python/tf/function for  more details.\n"
     ]
    },
    {
     "data": {
      "text/plain": [
       "array([[0.9359373 ],\n",
       "       [0.93203706],\n",
       "       [0.92883503],\n",
       "       [0.9267893 ],\n",
       "       [0.9267625 ],\n",
       "       [0.9297453 ],\n",
       "       [0.9355553 ],\n",
       "       [0.9428394 ],\n",
       "       [0.9503344 ],\n",
       "       [0.9570222 ],\n",
       "       [0.9622357 ],\n",
       "       [0.9656288 ],\n",
       "       [0.9672269 ],\n",
       "       [0.9675354 ],\n",
       "       [0.9671129 ],\n",
       "       [0.96774834],\n",
       "       [0.97072357],\n",
       "       [0.97666353],\n",
       "       [0.98450464],\n",
       "       [0.9908985 ]], dtype=float32)"
      ]
     },
     "execution_count": 93,
     "metadata": {},
     "output_type": "execute_result"
    }
   ],
   "source": [
    "predicted_stock_price = model.predict(X_test)\n",
    "predicted_stock_price"
   ]
  },
  {
   "cell_type": "code",
   "execution_count": 94,
   "id": "coastal-cannon",
   "metadata": {},
   "outputs": [
    {
     "data": {
      "text/plain": [
       "array([[782.24243],\n",
       "       [780.1459 ],\n",
       "       [778.42456],\n",
       "       [777.3248 ],\n",
       "       [777.3105 ],\n",
       "       [778.9139 ],\n",
       "       [782.0371 ],\n",
       "       [785.9527 ],\n",
       "       [789.98175],\n",
       "       [793.57684],\n",
       "       [796.3794 ],\n",
       "       [798.2034 ],\n",
       "       [799.0625 ],\n",
       "       [799.2283 ],\n",
       "       [799.00116],\n",
       "       [799.34283],\n",
       "       [800.94214],\n",
       "       [804.13525],\n",
       "       [808.35034],\n",
       "       [811.78735]], dtype=float32)"
      ]
     },
     "execution_count": 94,
     "metadata": {},
     "output_type": "execute_result"
    }
   ],
   "source": [
    "predicted_stock_price = scaler.inverse_transform(predicted_stock_price)\n",
    "predicted_stock_price"
   ]
  },
  {
   "cell_type": "code",
   "execution_count": 95,
   "id": "organized-wallpaper",
   "metadata": {},
   "outputs": [],
   "source": [
    "import math\n",
    "from sklearn.metrics import mean_squared_error, r2_score"
   ]
  },
  {
   "cell_type": "code",
   "execution_count": 96,
   "id": "awful-screw",
   "metadata": {},
   "outputs": [
    {
     "data": {
      "text/plain": [
       "19.858585946592086"
      ]
     },
     "execution_count": 96,
     "metadata": {},
     "output_type": "execute_result"
    }
   ],
   "source": [
    "mse = mean_squared_error(real_stock_price, predicted_stock_price)\n",
    "math.sqrt(mse)"
   ]
  },
  {
   "cell_type": "code",
   "execution_count": 97,
   "id": "functional-botswana",
   "metadata": {},
   "outputs": [
    {
     "data": {
      "text/plain": [
       "-0.8145029153225065"
      ]
     },
     "execution_count": 97,
     "metadata": {},
     "output_type": "execute_result"
    }
   ],
   "source": [
    "rs = r2_score(real_stock_price, predicted_stock_price)\n",
    "rs"
   ]
  },
  {
   "cell_type": "markdown",
   "id": "preceding-ordering",
   "metadata": {},
   "source": [
    "# Visualising the results"
   ]
  },
  {
   "cell_type": "code",
   "execution_count": 98,
   "id": "expanded-immune",
   "metadata": {},
   "outputs": [],
   "source": [
    "from matplotlib import pyplot as plt"
   ]
  },
  {
   "cell_type": "code",
   "execution_count": 99,
   "id": "micro-quest",
   "metadata": {},
   "outputs": [
    {
     "data": {
      "image/png": "[encoded data removed]",
      "text/plain": [
       "<Figure size 432x288 with 1 Axes>"
      ]
     },
     "metadata": {
      "needs_background": "light"
     },
     "output_type": "display_data"
    }
   ],
   "source": [
    "plt.plot(real_stock_price, color = 'red', label = 'Real Google Stock Price')\n",
    "plt.plot(predicted_stock_price, color = 'blue', label = 'Predicted Google Stock Price')\n",
    "plt.title('Google Stock Price Prediction')\n",
    "plt.xlabel('Time')\n",
    "plt.ylabel('Google Stock Price')\n",
    "plt.legend()\n",
    "plt.show()"
   ]
  },
  {
   "cell_type": "code",
   "execution_count": null,
   "id": "average-ending",
   "metadata": {},
   "outputs": [],
   "source": []
  }
 ],
 "metadata": {
  "kernelspec": {
   "display_name": "Python 3",
   "language": "python",
   "name": "python3"
  },
  "language_info": {
   "codemirror_mode": {
    "name": "ipython",
    "version": 3
   },
   "file_extension": ".py",
   "mimetype": "text/x-python",
   "name": "python",
   "nbconvert_exporter": "python",
   "pygments_lexer": "ipython3",
   "version": "3.6.12"
  }
 },
 "nbformat": 4,
 "nbformat_minor": 5
}
